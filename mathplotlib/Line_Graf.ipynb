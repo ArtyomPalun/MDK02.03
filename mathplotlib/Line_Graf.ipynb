{
  "metadata": {
    "kernelspec": {
      "name": "python",
      "display_name": "Python (Pyodide)",
      "language": "python"
    },
    "language_info": {
      "name": ""
    }
  },
  "nbformat_minor": 4,
  "nbformat": 4,
  "cells": [
    {
      "cell_type": "markdown",
      "source": "Задание 1",
      "metadata": {}
    },
    {
      "cell_type": "code",
      "source": "import numpy as np\nimport matplotlib.pyplot as plt\ncountries = ['Brazil', 'Madagascar', 'S. Korea', 'United States', 'Ethiopia', 'Pakistan', 'China', 'Belize']\n#Уровень рождаемости на 1000 населения.\nbirth_rate = [16.4, 33.5, 9.5, 14.2, 38.6, 30.2, 13.5, 23.0]\n#Ожидаемая средняя продолжительность жизни при рождении, в г. \nlife_expectancy = [73.7, 64.3, 81.3, 78.8, 63.0, 66.4, 75.2, 73.7]\n#Доход на душу населения, определенный в 2000 г. в долл. США. \nGDP = np.array([4800, 240, 16700, 37700, 230, 670, 2640, 3490])\nfig, ax = plt.subplots()\n#Некоторые произвольно выбираемые цвета:\ncolors = range(len(countries))\nax.scatter(birth_rate, life_expectancy, c=colors , s=GDP/20) \nax.set_xlim(5, 45)\nax.set_ylim(60, 85)\nax.set_xlabel('Birth rate per 1000 population') \nax.set_ylabel('Life expectancy at birth (years)')\noffset = 1\nfor x, y, s, country in zip(birth_rate, life_expectancy, GDP, countries):\n    ax.text(x+offset, y, country, va='center')\nplt.show()\nplt.draw()\nfig.savefig(\"image.png\",dpi=500)",
      "metadata": {
        "trusted": true
      },
      "outputs": [],
      "execution_count": null
    },
    {
      "cell_type": "markdown",
      "source": "Задание 2",
      "metadata": {}
    },
    {
      "cell_type": "code",
      "source": "import numpy as np\nimport matplotlib.pyplot as plt\n\ndef read_data(filename, data_type=float):\n    \"\"\"\n    Read in data from filename from two-column, tab-separated format\n    of country, value pairs. Cast the value to the data type specified\n    by data_type and return it as values to a dictionary keyed by country.\n\n    \"\"\"\n\n    print('Reading data from file {}'.format(filename))\n    data = {}\n    with open(filename, 'r') as fi:\n        for line in fi.readlines():\n            fields = line.split('\\t')\n            if len(fields) != 2:\n                # No data for this country\n                continue\n            country, value = fields[0], fields[1].strip()\n            if not value:\n                # Blank data field for this country\n                continue\n            data[country] = data_type(value)\n    return data\n\n# Read in the raw data\nraw_pop = read_data('population_total.tsv')\nraw_bmi = read_data('bmi_men.tsv')\nraw_gdp = read_data('gdp.tsv')\ncontinent = read_data('continents.tsv', str)\n\n# Get an alphabetically-sorted list of countries which have entries in all\n# of the data sets just read in.\ncountries = set(raw_pop.keys()) & set(raw_bmi.keys()) & set(raw_gdp.keys())\\\n            & set(continent.keys())\ncountries = sorted(list(countries))\n\n# Convert the dictionaries of data to numpy arrays\npop = np.array([raw_pop[country] for country in countries])\nbmi = np.array([raw_bmi[country] for country in countries])\ngdp = np.array([raw_gdp[country] for country in countries])\n\n# Set the colours of the plotted bubbles by continent\ncontinent_colours = {'Africa': 'b', 'Asia': 'r', 'North America': 'y',\n                     'South America': 'm', 'Europe': 'g', 'Oceania': 'c'}\ncolours = [continent_colours[continent[country]] for country in countries]\n\n# Set the bubble sizes (circle areas) by population, scaled to 2000 pts^2\n# per billion people, but with a minimum size of 16 pts^2\nsizes = np.clip(pop / 1.e9 * 2000, 16, None)\n\nfig = plt.figure()\nax = fig.add_subplot(111)\nsct = ax.scatter(gdp, bmi, s=sizes, c=colours, edgecolor='w')\n# Make the bubbles a bit transparent: some large ones overlap smaller ones\nsct.set_alpha(0.75)\n# The countries' GDPs span several orders of magnitude so a log-scale\n# is appropriate.\nax.set_xscale('log')\n\nax.set_xlabel('GDP per capita')\nax.set_ylabel('Body Mass Index of men (kg/m2)')\n\nplt.show()",
      "metadata": {
        "trusted": true
      },
      "outputs": [],
      "execution_count": null
    }
  ]
}