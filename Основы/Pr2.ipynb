{
  "metadata": {
    "kernelspec": {
      "name": "python",
      "display_name": "Python (Pyodide)",
      "language": "python"
    },
    "language_info": {
      "name": ""
    }
  },
  "nbformat_minor": 4,
  "nbformat": 4,
  "cells": [
    {
      "cell_type": "markdown",
      "source": "Последовательность чисел-градин (hailstone sequence; гипотеза Коллатца – Collatz conjecture), начинающаяся с целого числа n > 0, генерируется с помощью многократно повторяющегося применения следующих трех правил:\r\n\r\nесли n = 1, то последовательность завершается;\r\nесли n четное, то следующее число последовательности равно n/2;\r\nесли n нечетное, то следующее число последовательности равно 3n + 1. а) Написать программу вычисления последовательности чисел-градин, начиная с 27. б) Установить время останова процесса как количество чисел в заданной последовательности чисел-градин. Изменить программу вычисления последовательности чисел-градин, чтобы она возвращала время останова процесса (stopping time) вместо самих чисел-градин. Дополнить программу возможностью демонстрации того факта, что последовательности чиселградин, начинающиеся с числа 1 ≤ n ≤ 100, согласуются с гипотезой Коллатца (утверждающей, что все последовательности чисел-градин в конце концов завершают",
      "metadata": {}
    },
    {
      "cell_type": "code",
      "source": "def hailstone_sequence(n):\n    sequence = [n]\n    while n != 1:\n        if n % 2 == 0:\n            n = n // 2\n        else:\n            n = 3 * n + 1\n        sequence.append(n)\n    return sequence\n\n# Пример использования для n = 27\nstarting_number = 27\nsequence = hailstone_sequence(starting_number)\nprint(sequence)\n\n\ndef stopping_time(n):\n    count = 0\n    while n != 1:\n        if n % 2 == 0:\n            n = n // 2\n        else:\n            n = 3 * n + 1\n        count += 1\n    return count\n\n# Пример использования для n = 27\nstarting_number = 27\ntime = stopping_time(starting_number)\nprint(f\"Время останова для числа {starting_number}: {time} шагов\")",
      "metadata": {
        "trusted": true
      },
      "outputs": [],
      "execution_count": null
    },
    {
      "cell_type": "markdown",
      "source": "Изменить генератор последовательности чисел-градин из задачи З 0 для генерации последовательности чисел-градин,начиная с произвольного положительного целого числа, которое вводит пользователь в командной строке (использовать sys.argv). Необходимо правильно («аккуратно») обрабатывать случай, когда пользователь забывает задать исходное число n или указывает некорректное значение для n.",
      "metadata": {}
    },
    {
      "cell_type": "code",
      "source": "import sys\n\ndef hailstone_sequence(n):\n    sequence = [n]\n    while n != 1:\n        if n % 2 == 0:\n            n = n // 2\n        else:\n            n = 3 * n + 1\n        sequence.append(n)\n    return sequence\n\ndef stopping_time(n):\n    count = 0\n    while n != 1:\n        if n % 2 == 0:\n            n = n // 2\n        else:\n            n = 3 * n + 1\n        count += 1\n    return count\n\nif len(sys.argv) != 2:\n    print(\"Использование: python script.py <начальное_число>\")\n    sys.exit(1)\n\ntry:\n    starting_number = int(sys.argv[1])\n    if starting_number <= 0:\n        raise ValueError(\"Начальное число должно быть положительным.\")\nexcept ValueError:\n    print(\"Ошибка: Начальное число должно быть положительным целым числом.\")\n    sys.exit(1)\n\nsequence = hailstone_sequence(starting_number)\ntime = stopping_time(starting_number)\n\nprint(f\"Последовательность чисел-градин для числа {starting_number}:\")\nprint(sequence)\nprint(f\"Время останова: {time} шагов\")",
      "metadata": {
        "trusted": true
      },
      "outputs": [],
      "execution_count": null
    },
    {
      "cell_type": "markdown",
      "source": "Формула гаверсинуса (haversine) позволяет вычислять кратчайшее расстояние (по дуге большой окружности,или по ортодромии) d между двумя точками на сфере радиуса R по значениям долготы (λ1,λ2) и широты (φ1,φ2) этих точек:\r\n\r\nimage.png\r\n\r\nгде функция haversine для угла α определяется формулой\r\n\r\nhaversin(α) = sin^2(α/2).\r\n\r\nНаписать программу для вычисления кратчайшего расстояния в километрах между двумя точками на поверхности Земли (рассматривая Землю как сферу с радиусом 6378.1 км), заданными как два аргумента командной строки, каждый из которых представлен в форме пары значений широта, долгота в градусах. Например, расстояние между Парижем и Римом вычисляется так:\r\n\r\npython greatcircle.py 48.9,2.4 41.9,12.5\r\n1107 km",
      "metadata": {}
    },
    {
      "cell_type": "code",
      "source": "import sys\nimport math\n\ndef haversine(lat1, lon1, lat2, lon2):\n    # Радиус Земли в километрах\n    R = 6378.1\n\n    # Переводим градусы в радианы\n    lat1 = math.radians(lat1)\n    lon1 = math.radians(lon1)\n    lat2 = math.radians(lat2)\n    lon2 = math.radians(lon2)\n\n    # Разница в широте и долготе\n    dlat = lat2 - lat1\n    dlon = lon2 - lon1\n\n    # Вычисляем haversin угла\n    a = math.sin(dlat/2)**2 + math.cos(lat1) * math.cos(lat2) * math.sin(dlon/2)**2\n    c = 2 * math.atan2(math.sqrt(a), math.sqrt(1-a))\n\n    # Вычисляем расстояние\n    distance = R * c\n    return distance\n\nif len(sys.argv) != 3:\n    print(\"Использование: python greatcircle.py <широта1,долгота1> <широта2,долгота2>\")\n    sys.exit(1)\n\ntry:\n    lat1, lon1 = map(float, sys.argv[1].split(','))\n    lat2, lon2 = map(float, sys.argv[2].split(','))\nexcept ValueError:\n    print(\"Ошибка: Некорректный формат координат.\")\n    sys.exit(1)\n\ndistance = haversine(lat1, lon1, lat2, lon2)\nprint(f\"{int(distance)} km\")",
      "metadata": {
        "trusted": true
      },
      "outputs": [],
      "execution_count": null
    },
    {
      "cell_type": "markdown",
      "source": "# Не было [image.png](attachment:image.png)\r\n\r\nimport sys\r\nimport math\r\n\r\ndef haversine(lat1, lon1, lat2, lon2):\r\n    # Радиус Земли в километрах\r\n    R = 6378.1\r\n\r\n    # Переводим градусы в радианы\r\n    lat1 = math.radians(lat1)\r\n    lon1 = math.radians(lon1)\r\n    lat2 = math.radians(lat2)\r\n    lon2 = math.radians(lon2)\r\n\r\n    # Разница в широте и долготе\r\n    dlat = lat2 - lat1\r\n    dlon = lon2 - lon1\r\n\r\n    # Вычисляем haversin угла\r\n    a = math.sin(dlat/2)**2 + math.cos(lat1) * math.cos(lat2) * math.sin(dlon/2)**2\r\n    c = 2 * math.atan2(math.sqrt(a), math.sqrt(1-a))\r\n\r\n    # Вычисляем расстояние\r\n    distance = R * c\r\n    return distance\r\n\r\nif len(sys.argv) != 3:\r\n    print(\"Использование: python greatcircle.py <широта1,долгота1> <широта2,долгота2>\")\r\n    sys.exit(1)\r\n\r\ntry:\r\n    lat1, lon1 = map(float, sys.argv[1].split(','))\r\n    lat2, lon2 = map(float, sys.argv[2].split(','))\r\nexcept ValueError:\r\n    print(\"Ошибка: Некорректный формат координат.\")\r\n    sys.exit(1)\r\n\r\ndistance = haversine(lat1, lon1, lat2, lon2)\r\nprint(f\"{int(distance)} km\")",
      "metadata": {}
    },
    {
      "cell_type": "code",
      "source": "import os\nimport xml.etree.ElementTree as ET\n\n# Создание каталога 'test' в домашнем каталоге пользователя\nuser_home = os.path.expanduser(\"~\")\ntest_directory = os.path.join(user_home, \"test\")\nos.makedirs(test_directory, exist_ok=True)\n\n# Генерация 20 файлов SVG с анимацией\nfor i in range(20):\n    filename = os.path.join(test_directory, f\"fig{i:02d}.svg\")\n    \n    svg_root = ET.Element(\"svg\", xmlns=\"http://www.w3.org/2000/svg\", xmlns_xlink=\"http://www.w3.org/1999/xlink\", width=\"500\", height=\"500\", style=\"background: #ffffff\")\n    \n    outer_circle = ET.Element(\"circle\", cx=\"250.0\", cy=\"250.0\", r=\"200\", style=\"stroke: black; stroke-width: 2px; fill: none;\")\n    inner_circle = ET.Element(\"circle\", cx=str(250 + i * 10), cy=\"250.0\", r=\"20\", style=\"stroke: red; fill: red;\")\n\n    svg_root.append(outer_circle)\n    svg_root.append(inner_circle)\n\n    with open(filename, \"w\") as svg_file:\n        svg_file.write(ET.tostring(svg_root, encoding=\"utf-8\").decode())\n\nprint(\"Создан каталог 'test' и сгенерированы файлы SVG с анимацией.\")\n\n\n#convert -delay 5 -loop 0 fig*.svg animation.gif",
      "metadata": {
        "trusted": true
      },
      "outputs": [],
      "execution_count": null
    },
    {
      "cell_type": "markdown",
      "source": " Изменить программу из примера П 16 (листинг 4) так, чтобы она перехватывала следующие ошибки и аккуратно обрабатывала их:\r\n\r\nпользователь не указал имя каталога в командной строке (необходимо вывести сообщение-подсказку по использованию программы);\r\nзаданный каталог не существует;\r\nимя файла в заданном каталоге не соответствует корректному формату;\r\nимя файла записано в правильном формате, но сокращенное обозначение месяца не определено (не найдено в списке допустимых обозначений месяцев).\r\nВ первых двух случаях программа должна завершать свое выполнение. В третьем и четвертом случаях некорректное имя файла должно быть пропущено.",
      "metadata": {}
    },
    {
      "cell_type": "code",
      "source": "import os\nimport sys\n\nmonths = ['jan', 'feb', 'mar', 'apr', 'may', 'jun', 'jul', 'aug', 'sep', 'oct', 'nov', 'dec']\n\ntry:\n    dir_name = sys.argv[1]\nexcept IndexError:\n    print(\"Использование: python eg4-osmodule.py <каталог>\")\n    sys.exit(1)\n\nif not os.path.exists(dir_name):\n    print(f\"Каталог '{dir_name}' не существует.\")\n    sys.exit(1)\n\nfor filename in os.listdir(dir_name):\n    try:\n        # Проверяем, что имя файла соответствует формату 'data-DD-MMM-YY.txt'\n        if not filename.startswith('data-') or not filename.endswith('.txt'):\n            raise ValueError(\"Некорректное имя файла\")\n        \n        d, month, y = int(filename[5:7]), filename[8:11], int(filename[12:14])\n        \n        # Проверяем, что сокращенное обозначение месяца корректно\n        month_lower = month.lower()\n        if month_lower not in months:\n            raise ValueError(\"Некорректное сокращенное обозначение месяца\")\n        \n        m = months.index(month_lower) + 1\n        newname = 'data-20{:02d}-{:02d}-{:02d}.txt'.format(y, m, d)\n        newpath = os.path.join(dir_name, newname)\n        oldpath = os.path.join(dir_name, filename)\n        print(oldpath, '->', newpath)\n        os.rename(oldpath, newpath)\n    except (ValueError, IndexError):\n        print(f\"Пропущен файл '{filename}' из-за ошибки формата.\")",
      "metadata": {
        "trusted": true
      },
      "outputs": [],
      "execution_count": null
    }
  ]
}